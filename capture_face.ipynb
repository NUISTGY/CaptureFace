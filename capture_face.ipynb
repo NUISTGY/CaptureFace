{
 "cells": [
  {
   "cell_type": "code",
   "execution_count": 10,
   "metadata": {
    "scrolled": false
   },
   "outputs": [
    {
     "name": "stdout",
     "output_type": "stream",
     "text": [
      "Number of faces detected: 1\n",
      "Detection 0: Left: 184 Top: 150 Right: 339 Bottom: 305 \n",
      "Number of faces detected: 1\n",
      "Detection 0: Left: 184 Top: 150 Right: 339 Bottom: 305 \n",
      "Number of faces detected: 1\n",
      "Detection 0: Left: 184 Top: 150 Right: 339 Bottom: 305 \n",
      "Number of faces detected: 1\n",
      "Detection 0: Left: 184 Top: 150 Right: 339 Bottom: 305 \n",
      "Number of faces detected: 1\n",
      "Detection 0: Left: 184 Top: 150 Right: 339 Bottom: 305 \n",
      "Number of faces detected: 1\n",
      "Detection 0: Left: 184 Top: 150 Right: 339 Bottom: 305 \n",
      "Number of faces detected: 1\n",
      "Detection 0: Left: 184 Top: 150 Right: 339 Bottom: 305 \n"
     ]
    },
    {
     "ename": "KeyboardInterrupt",
     "evalue": "",
     "output_type": "error",
     "traceback": [
      "\u001b[1;31m---------------------------------------------------------------------------\u001b[0m",
      "\u001b[1;31mKeyboardInterrupt\u001b[0m                         Traceback (most recent call last)",
      "\u001b[1;32m<ipython-input-10-791048ca64cb>\u001b[0m in \u001b[0;36m<module>\u001b[1;34m()\u001b[0m\n\u001b[0;32m     14\u001b[0m     \u001b[0mframe_new\u001b[0m \u001b[1;33m=\u001b[0m \u001b[0mcv2\u001b[0m\u001b[1;33m.\u001b[0m\u001b[0mcvtColor\u001b[0m\u001b[1;33m(\u001b[0m\u001b[0mframe\u001b[0m\u001b[1;33m,\u001b[0m \u001b[0mcv2\u001b[0m\u001b[1;33m.\u001b[0m\u001b[0mCOLOR_BGR2RGB\u001b[0m\u001b[1;33m)\u001b[0m\u001b[1;33m\u001b[0m\u001b[0m\n\u001b[0;32m     15\u001b[0m     \u001b[1;31m# 检测脸部\u001b[0m\u001b[1;33m\u001b[0m\u001b[1;33m\u001b[0m\u001b[0m\n\u001b[1;32m---> 16\u001b[1;33m     \u001b[0mdets\u001b[0m \u001b[1;33m=\u001b[0m \u001b[0mdetector\u001b[0m\u001b[1;33m(\u001b[0m\u001b[0mframe_new\u001b[0m\u001b[1;33m,\u001b[0m \u001b[1;36m1\u001b[0m\u001b[1;33m)\u001b[0m\u001b[1;33m\u001b[0m\u001b[0m\n\u001b[0m\u001b[0;32m     17\u001b[0m     \u001b[0mprint\u001b[0m\u001b[1;33m(\u001b[0m\u001b[1;34m\"Number of faces detected: {}\"\u001b[0m\u001b[1;33m.\u001b[0m\u001b[0mformat\u001b[0m\u001b[1;33m(\u001b[0m\u001b[0mlen\u001b[0m\u001b[1;33m(\u001b[0m\u001b[0mdets\u001b[0m\u001b[1;33m)\u001b[0m\u001b[1;33m)\u001b[0m\u001b[1;33m)\u001b[0m\u001b[1;33m\u001b[0m\u001b[0m\n\u001b[0;32m     18\u001b[0m     \u001b[1;31m# 查找脸部位置\u001b[0m\u001b[1;33m\u001b[0m\u001b[1;33m\u001b[0m\u001b[0m\n",
      "\u001b[1;31mKeyboardInterrupt\u001b[0m: "
     ]
    }
   ],
   "source": [
    "import dlib\n",
    "import cv2\n",
    "# 加载并初始化检测器\n",
    "detector = dlib.get_frontal_face_detector()\n",
    "camera = cv2.VideoCapture(r'E:\\JupyterWorkspace\\FakeFace\\FakeVideo\\1.avi')\n",
    "if not camera.isOpened():\n",
    "    print(\"cannot open camear\")\n",
    "    exit(0)\n",
    "j=0\n",
    "while True:\n",
    "    ret, frame = camera.read()\n",
    "    if not ret:\n",
    "        break\n",
    "    frame_new = cv2.cvtColor(frame, cv2.COLOR_BGR2RGB)\n",
    "    # 检测脸部\n",
    "    dets = detector(frame_new, 1)\n",
    "    print(\"Number of faces detected: {}\".format(len(dets)))\n",
    "    # 查找脸部位置\n",
    "    for i, face in enumerate(dets):\n",
    "        print(\"Detection {}: Left: {} Top: {} Right: {} Bottom: {} \".format(i, face.left(), face.top(), face.right(), face.bottom()))\n",
    "        # 绘制脸部位置\n",
    "        #cv2.rectangle(frame, (face.left(), face.top()), (face.right(), face.bottom()), (0, 255, 0), 1)\n",
    "        #保存脸部图片,注意这里+ - 是根据dlib对脸部的定位来的，我这里选的50很适合我这个视频\n",
    "        img1=frame[face.top()-50:face.bottom()+50,face.left()-50:face.right()+50]\n",
    "        cv2.imwrite(r'E:\\JupyterWorkspace\\FakeFace\\pic\\{}.jpg'.format(j), img1)  \n",
    "        j=j+1\n",
    "    cv2.imshow(\"Camera\", frame)\n",
    "    key = cv2.waitKey(1)\n",
    "    if key == 27:\n",
    "        break\n",
    "cv2.destroyAllWindows()"
   ]
  },
  {
   "cell_type": "code",
   "execution_count": null,
   "metadata": {},
   "outputs": [],
   "source": []
  }
 ],
 "metadata": {
  "kernelspec": {
   "display_name": "Python 3",
   "language": "python",
   "name": "python3"
  },
  "language_info": {
   "codemirror_mode": {
    "name": "ipython",
    "version": 3
   },
   "file_extension": ".py",
   "mimetype": "text/x-python",
   "name": "python",
   "nbconvert_exporter": "python",
   "pygments_lexer": "ipython3",
   "version": "3.6.4"
  }
 },
 "nbformat": 4,
 "nbformat_minor": 2
}
